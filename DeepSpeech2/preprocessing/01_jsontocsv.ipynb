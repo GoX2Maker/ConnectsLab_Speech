{
 "cells": [
  {
   "cell_type": "markdown",
   "metadata": {},
   "source": [
    "# 자유음성 데이터\n",
    "\n",
    "https://aihub.or.kr/aihubdata/data/view.do?currMenu=115&topMenu=100&aihubDataSe=realm&dataSetSn=109\n",
    "AI Hub에서 해당 파일을 다운받았습니다.\n",
    "\n",
    "wav파일마다 Json이 있는데 cav파일 변환하는 과정입니다."
   ]
  },
  {
   "cell_type": "code",
   "execution_count": 1,
   "metadata": {},
   "outputs": [],
   "source": [
    "import json\n",
    "import os\n",
    "from glob import glob\n",
    "import pandas as pd\n",
    "import numpy as np\n",
    "\n",
    "import matplotlib.pyplot as plt\n",
    "# plt.rcParams['font.family'] = 'NanumGothic, Malgun Gothic, AppleGothic, sans-serif'\n",
    "\n",
    "from tqdm import tqdm"
   ]
  },
  {
   "cell_type": "code",
   "execution_count": 2,
   "metadata": {},
   "outputs": [],
   "source": [
    "root_dir = \"/DATA2/자유대화 음성(일반남녀)/\"\n",
    "training_dir = root_dir + \"Validation/\"\n",
    "\n",
    "train_all_folder = os.listdir(training_dir)"
   ]
  },
  {
   "cell_type": "code",
   "execution_count": 3,
   "metadata": {},
   "outputs": [
    {
     "name": "stderr",
     "output_type": "stream",
     "text": [
      "100%|██████████| 706/706 [05:35<00:00,  2.10it/s]\n"
     ]
    },
    {
     "data": {
      "text/html": [
       "<div>\n",
       "<style scoped>\n",
       "    .dataframe tbody tr th:only-of-type {\n",
       "        vertical-align: middle;\n",
       "    }\n",
       "\n",
       "    .dataframe tbody tr th {\n",
       "        vertical-align: top;\n",
       "    }\n",
       "\n",
       "    .dataframe thead th {\n",
       "        text-align: right;\n",
       "    }\n",
       "</style>\n",
       "<table border=\"1\" class=\"dataframe\">\n",
       "  <thead>\n",
       "    <tr style=\"text-align: right;\">\n",
       "      <th></th>\n",
       "      <th>file_name</th>\n",
       "      <th>gender</th>\n",
       "      <th>age</th>\n",
       "      <th>record_time</th>\n",
       "      <th>record_env</th>\n",
       "      <th>text</th>\n",
       "    </tr>\n",
       "  </thead>\n",
       "  <tbody>\n",
       "    <tr>\n",
       "      <th>0</th>\n",
       "      <td>일반남여_자유대화_F_1536588430_38_경상_실내_20201119163346...</td>\n",
       "      <td>여</td>\n",
       "      <td>38</td>\n",
       "      <td>10.830</td>\n",
       "      <td>실내</td>\n",
       "      <td>아이는 티비를 보며 옆에서 놀고 있어요 빨리 맛있는 간식을 준비해 줘야겠어요</td>\n",
       "    </tr>\n",
       "    <tr>\n",
       "      <th>1</th>\n",
       "      <td>일반남여_자유대화_F_1536588430_38_경상_실내_20201120072744...</td>\n",
       "      <td>여</td>\n",
       "      <td>38</td>\n",
       "      <td>6.650</td>\n",
       "      <td>실내</td>\n",
       "      <td>이제 아이를 유치원에 데려다 줄 시간입니다</td>\n",
       "    </tr>\n",
       "    <tr>\n",
       "      <th>2</th>\n",
       "      <td>일반남여_자유대화_F_1536588430_38_경상_실내_20201120072648...</td>\n",
       "      <td>여</td>\n",
       "      <td>38</td>\n",
       "      <td>4.520</td>\n",
       "      <td>실내</td>\n",
       "      <td>좋은 아침이에요</td>\n",
       "    </tr>\n",
       "    <tr>\n",
       "      <th>3</th>\n",
       "      <td>일반남여_자유대화_F_1536588430_38_경상_실내_20201119163719...</td>\n",
       "      <td>여</td>\n",
       "      <td>38</td>\n",
       "      <td>6.830</td>\n",
       "      <td>실내</td>\n",
       "      <td>자도 시어머니 살아 계실 때 좀 더 잘 해야겠네요</td>\n",
       "    </tr>\n",
       "    <tr>\n",
       "      <th>4</th>\n",
       "      <td>일반남여_자유대화_F_1536588430_38_경상_실내_20201119163453...</td>\n",
       "      <td>여</td>\n",
       "      <td>38</td>\n",
       "      <td>6.830</td>\n",
       "      <td>실내</td>\n",
       "      <td>시금치 된장국 맛있겠네요 저도 먹고 싶어요</td>\n",
       "    </tr>\n",
       "    <tr>\n",
       "      <th>...</th>\n",
       "      <td>...</td>\n",
       "      <td>...</td>\n",
       "      <td>...</td>\n",
       "      <td>...</td>\n",
       "      <td>...</td>\n",
       "      <td>...</td>\n",
       "    </tr>\n",
       "    <tr>\n",
       "      <th>263370</th>\n",
       "      <td>일반남여_일반통합11_F_1528639096_31_수도권_실내_16051.wav</td>\n",
       "      <td>여</td>\n",
       "      <td>31</td>\n",
       "      <td>4.610</td>\n",
       "      <td>실내</td>\n",
       "      <td>서로 가지지 못한 것 부러워하며 자랐네요, 우리는.</td>\n",
       "    </tr>\n",
       "    <tr>\n",
       "      <th>263371</th>\n",
       "      <td>일반남여_일반통합11_F_1528639096_31_수도권_실내_15791.wav</td>\n",
       "      <td>여</td>\n",
       "      <td>31</td>\n",
       "      <td>3.750</td>\n",
       "      <td>실내</td>\n",
       "      <td>아니 그래서 제가 걷는 게 그랬다고요</td>\n",
       "    </tr>\n",
       "    <tr>\n",
       "      <th>263372</th>\n",
       "      <td>일반남여_일반통합11_F_1528639096_31_수도권_실내_17578.wav</td>\n",
       "      <td>여</td>\n",
       "      <td>31</td>\n",
       "      <td>3.670</td>\n",
       "      <td>실내</td>\n",
       "      <td>또 김 총재와 사진까지 찍었다고 돼 있습니다</td>\n",
       "    </tr>\n",
       "    <tr>\n",
       "      <th>263373</th>\n",
       "      <td>일반남여_일반통합11_F_1528639096_31_수도권_실내_16486.wav</td>\n",
       "      <td>여</td>\n",
       "      <td>31</td>\n",
       "      <td>6.480</td>\n",
       "      <td>실내</td>\n",
       "      <td>백오십 제곱미터 이상 일반 음식점 목욕탕 사우나 등의 시설을 말하는 거야</td>\n",
       "    </tr>\n",
       "    <tr>\n",
       "      <th>263374</th>\n",
       "      <td>일반남여_일반통합11_F_1528639096_31_수도권_실내_16452.wav</td>\n",
       "      <td>여</td>\n",
       "      <td>31</td>\n",
       "      <td>8.360</td>\n",
       "      <td>실내</td>\n",
       "      <td>벚꽃 크림치즈 타르트라는 걸 먹어봤는데 부드럽고 달콤한 맛이 커피랑 곁들이기 딱 좋더라고</td>\n",
       "    </tr>\n",
       "  </tbody>\n",
       "</table>\n",
       "<p>263375 rows × 6 columns</p>\n",
       "</div>"
      ],
      "text/plain": [
       "                                                file_name gender  age  \\\n",
       "0       일반남여_자유대화_F_1536588430_38_경상_실내_20201119163346...      여   38   \n",
       "1       일반남여_자유대화_F_1536588430_38_경상_실내_20201120072744...      여   38   \n",
       "2       일반남여_자유대화_F_1536588430_38_경상_실내_20201120072648...      여   38   \n",
       "3       일반남여_자유대화_F_1536588430_38_경상_실내_20201119163719...      여   38   \n",
       "4       일반남여_자유대화_F_1536588430_38_경상_실내_20201119163453...      여   38   \n",
       "...                                                   ...    ...  ...   \n",
       "263370       일반남여_일반통합11_F_1528639096_31_수도권_실내_16051.wav      여   31   \n",
       "263371       일반남여_일반통합11_F_1528639096_31_수도권_실내_15791.wav      여   31   \n",
       "263372       일반남여_일반통합11_F_1528639096_31_수도권_실내_17578.wav      여   31   \n",
       "263373       일반남여_일반통합11_F_1528639096_31_수도권_실내_16486.wav      여   31   \n",
       "263374       일반남여_일반통합11_F_1528639096_31_수도권_실내_16452.wav      여   31   \n",
       "\n",
       "       record_time record_env  \\\n",
       "0           10.830         실내   \n",
       "1            6.650         실내   \n",
       "2            4.520         실내   \n",
       "3            6.830         실내   \n",
       "4            6.830         실내   \n",
       "...            ...        ...   \n",
       "263370       4.610         실내   \n",
       "263371       3.750         실내   \n",
       "263372       3.670         실내   \n",
       "263373       6.480         실내   \n",
       "263374       8.360         실내   \n",
       "\n",
       "                                                     text  \n",
       "0              아이는 티비를 보며 옆에서 놀고 있어요 빨리 맛있는 간식을 준비해 줘야겠어요  \n",
       "1                                 이제 아이를 유치원에 데려다 줄 시간입니다  \n",
       "2                                                좋은 아침이에요  \n",
       "3                             자도 시어머니 살아 계실 때 좀 더 잘 해야겠네요  \n",
       "4                                 시금치 된장국 맛있겠네요 저도 먹고 싶어요  \n",
       "...                                                   ...  \n",
       "263370                       서로 가지지 못한 것 부러워하며 자랐네요, 우리는.  \n",
       "263371                               아니 그래서 제가 걷는 게 그랬다고요  \n",
       "263372                           또 김 총재와 사진까지 찍었다고 돼 있습니다  \n",
       "263373           백오십 제곱미터 이상 일반 음식점 목욕탕 사우나 등의 시설을 말하는 거야  \n",
       "263374  벚꽃 크림치즈 타르트라는 걸 먹어봤는데 부드럽고 달콤한 맛이 커피랑 곁들이기 딱 좋더라고  \n",
       "\n",
       "[263375 rows x 6 columns]"
      ]
     },
     "execution_count": 3,
     "metadata": {},
     "output_type": "execute_result"
    }
   ],
   "source": [
    "df = pd.DataFrame()\n",
    "\n",
    "gender      = []\n",
    "age         = []\n",
    "text        = []\n",
    "file_name   = []\n",
    "record_time = []\n",
    "record_env  = []\n",
    "\n",
    "for train_folder in tqdm(train_all_folder):\n",
    "    train_all_files = glob(training_dir + train_folder + \"/*.json\")\n",
    "    for file in train_all_files:\n",
    "        with open(file, 'r') as f:\n",
    "            json_data = json.load(f)\n",
    "        gender.append(json_data['녹음자정보']['gender'])\n",
    "        age.append(json_data['녹음자정보']['age'])\n",
    "        text.append(json_data['발화정보']['stt'])\n",
    "        file_name.append(json_data['발화정보']['fileNm'])\n",
    "        record_time.append(json_data['발화정보']['recrdTime'])\n",
    "        record_env.append(json_data['대화정보']['recrdEnvrn'])\n",
    "\n",
    "df['file_name']   = file_name\n",
    "df['gender']      = gender\n",
    "df['age']         = age\n",
    "df['record_time'] = record_time\n",
    "df['record_env']  = record_env\n",
    "df['text']        = text\n",
    "\n",
    "df"
   ]
  },
  {
   "cell_type": "code",
   "execution_count": 4,
   "metadata": {},
   "outputs": [],
   "source": [
    "df.to_csv('val_output.csv', index=False) # 데이터가 커서 미리 저장함."
   ]
  },
  {
   "cell_type": "code",
   "execution_count": 3,
   "metadata": {},
   "outputs": [
    {
     "data": {
      "text/html": [
       "<div>\n",
       "<style scoped>\n",
       "    .dataframe tbody tr th:only-of-type {\n",
       "        vertical-align: middle;\n",
       "    }\n",
       "\n",
       "    .dataframe tbody tr th {\n",
       "        vertical-align: top;\n",
       "    }\n",
       "\n",
       "    .dataframe thead th {\n",
       "        text-align: right;\n",
       "    }\n",
       "</style>\n",
       "<table border=\"1\" class=\"dataframe\">\n",
       "  <thead>\n",
       "    <tr style=\"text-align: right;\">\n",
       "      <th></th>\n",
       "      <th>file_name</th>\n",
       "      <th>gender</th>\n",
       "      <th>age</th>\n",
       "      <th>record_time</th>\n",
       "      <th>record_env</th>\n",
       "      <th>text</th>\n",
       "    </tr>\n",
       "  </thead>\n",
       "  <tbody>\n",
       "    <tr>\n",
       "      <th>0</th>\n",
       "      <td>일반남여_자유대화_F_1536588430_38_경상_실내_20201119163346...</td>\n",
       "      <td>여</td>\n",
       "      <td>38</td>\n",
       "      <td>10.83</td>\n",
       "      <td>실내</td>\n",
       "      <td>아이는 티비를 보며 옆에서 놀고 있어요 빨리 맛있는 간식을 준비해 줘야겠어요</td>\n",
       "    </tr>\n",
       "    <tr>\n",
       "      <th>1</th>\n",
       "      <td>일반남여_자유대화_F_1536588430_38_경상_실내_20201120072744...</td>\n",
       "      <td>여</td>\n",
       "      <td>38</td>\n",
       "      <td>6.65</td>\n",
       "      <td>실내</td>\n",
       "      <td>이제 아이를 유치원에 데려다 줄 시간입니다</td>\n",
       "    </tr>\n",
       "    <tr>\n",
       "      <th>2</th>\n",
       "      <td>일반남여_자유대화_F_1536588430_38_경상_실내_20201120072648...</td>\n",
       "      <td>여</td>\n",
       "      <td>38</td>\n",
       "      <td>4.52</td>\n",
       "      <td>실내</td>\n",
       "      <td>좋은 아침이에요</td>\n",
       "    </tr>\n",
       "    <tr>\n",
       "      <th>3</th>\n",
       "      <td>일반남여_자유대화_F_1536588430_38_경상_실내_20201119163719...</td>\n",
       "      <td>여</td>\n",
       "      <td>38</td>\n",
       "      <td>6.83</td>\n",
       "      <td>실내</td>\n",
       "      <td>자도 시어머니 살아 계실 때 좀 더 잘 해야겠네요</td>\n",
       "    </tr>\n",
       "    <tr>\n",
       "      <th>4</th>\n",
       "      <td>일반남여_자유대화_F_1536588430_38_경상_실내_20201119163453...</td>\n",
       "      <td>여</td>\n",
       "      <td>38</td>\n",
       "      <td>6.83</td>\n",
       "      <td>실내</td>\n",
       "      <td>시금치 된장국 맛있겠네요 저도 먹고 싶어요</td>\n",
       "    </tr>\n",
       "  </tbody>\n",
       "</table>\n",
       "</div>"
      ],
      "text/plain": [
       "                                           file_name gender  age  record_time  \\\n",
       "0  일반남여_자유대화_F_1536588430_38_경상_실내_20201119163346...      여   38        10.83   \n",
       "1  일반남여_자유대화_F_1536588430_38_경상_실내_20201120072744...      여   38         6.65   \n",
       "2  일반남여_자유대화_F_1536588430_38_경상_실내_20201120072648...      여   38         4.52   \n",
       "3  일반남여_자유대화_F_1536588430_38_경상_실내_20201119163719...      여   38         6.83   \n",
       "4  일반남여_자유대화_F_1536588430_38_경상_실내_20201119163453...      여   38         6.83   \n",
       "\n",
       "  record_env                                        text  \n",
       "0         실내  아이는 티비를 보며 옆에서 놀고 있어요 빨리 맛있는 간식을 준비해 줘야겠어요  \n",
       "1         실내                     이제 아이를 유치원에 데려다 줄 시간입니다  \n",
       "2         실내                                    좋은 아침이에요  \n",
       "3         실내                 자도 시어머니 살아 계실 때 좀 더 잘 해야겠네요  \n",
       "4         실내                     시금치 된장국 맛있겠네요 저도 먹고 싶어요  "
      ]
     },
     "execution_count": 3,
     "metadata": {},
     "output_type": "execute_result"
    }
   ],
   "source": [
    "df = pd.read_csv('val_output.csv') # 다시 불러오기\n",
    "df.head()"
   ]
  },
  {
   "cell_type": "code",
   "execution_count": 4,
   "metadata": {},
   "outputs": [
    {
     "name": "stdout",
     "output_type": "stream",
     "text": [
      "<class 'pandas.core.frame.DataFrame'>\n",
      "RangeIndex: 263375 entries, 0 to 263374\n",
      "Data columns (total 6 columns):\n",
      " #   Column       Non-Null Count   Dtype  \n",
      "---  ------       --------------   -----  \n",
      " 0   file_name    263375 non-null  object \n",
      " 1   gender       263375 non-null  object \n",
      " 2   age          263375 non-null  int64  \n",
      " 3   record_time  263375 non-null  float64\n",
      " 4   record_env   263375 non-null  object \n",
      " 5   text         263375 non-null  object \n",
      "dtypes: float64(1), int64(1), object(4)\n",
      "memory usage: 12.1+ MB\n"
     ]
    }
   ],
   "source": [
    "df.info()"
   ]
  },
  {
   "cell_type": "code",
   "execution_count": 6,
   "metadata": {},
   "outputs": [
    {
     "data": {
      "text/html": [
       "<div>\n",
       "<style scoped>\n",
       "    .dataframe tbody tr th:only-of-type {\n",
       "        vertical-align: middle;\n",
       "    }\n",
       "\n",
       "    .dataframe tbody tr th {\n",
       "        vertical-align: top;\n",
       "    }\n",
       "\n",
       "    .dataframe thead th {\n",
       "        text-align: right;\n",
       "    }\n",
       "</style>\n",
       "<table border=\"1\" class=\"dataframe\">\n",
       "  <thead>\n",
       "    <tr style=\"text-align: right;\">\n",
       "      <th></th>\n",
       "      <th>file_name</th>\n",
       "      <th>gender</th>\n",
       "      <th>age</th>\n",
       "      <th>record_time</th>\n",
       "      <th>record_env</th>\n",
       "      <th>text</th>\n",
       "    </tr>\n",
       "  </thead>\n",
       "  <tbody>\n",
       "    <tr>\n",
       "      <th>4599</th>\n",
       "      <td>일반남여_일반통합05_M_jangwon805479_20_수도권_실내_06827.wav</td>\n",
       "      <td>남</td>\n",
       "      <td>20</td>\n",
       "      <td>7.20</td>\n",
       "      <td>실내</td>\n",
       "      <td>(NO:) (SP:) 슬로우푸드가 좋다는 건 알고 있지만 안 그래도 바쁜데 매 끼니...</td>\n",
       "    </tr>\n",
       "    <tr>\n",
       "      <th>4682</th>\n",
       "      <td>일반남여_일반통합05_M_jangwon805479_20_수도권_실내_07199.wav</td>\n",
       "      <td>남</td>\n",
       "      <td>20</td>\n",
       "      <td>3.60</td>\n",
       "      <td>실내</td>\n",
       "      <td>(SP:)예를 들어 어떤 거</td>\n",
       "    </tr>\n",
       "    <tr>\n",
       "      <th>5389</th>\n",
       "      <td>일반남여_일반통합05_F_sunchoi17_53_수도권_실내_06818.wav</td>\n",
       "      <td>여</td>\n",
       "      <td>53</td>\n",
       "      <td>6.16</td>\n",
       "      <td>실내</td>\n",
       "      <td>(SP:)변비가 그럼 옛날 사람들은 변비가 없었어</td>\n",
       "    </tr>\n",
       "    <tr>\n",
       "      <th>5429</th>\n",
       "      <td>일반남여_일반통합05_F_sunchoi17_53_수도권_실내_06743.wav</td>\n",
       "      <td>여</td>\n",
       "      <td>53</td>\n",
       "      <td>8.84</td>\n",
       "      <td>실내</td>\n",
       "      <td>(SP:)같은 원리로 튼살에 바르고 마사지 해도 좋고 다크서클 케어에도 좋아</td>\n",
       "    </tr>\n",
       "    <tr>\n",
       "      <th>5437</th>\n",
       "      <td>일반남여_일반통합05_F_sunchoi17_53_수도권_실내_06576.wav</td>\n",
       "      <td>여</td>\n",
       "      <td>53</td>\n",
       "      <td>6.88</td>\n",
       "      <td>실내</td>\n",
       "      <td>(SP:)주식하다 폭망한 사람들 얘기를 하도 많이 들어서</td>\n",
       "    </tr>\n",
       "    <tr>\n",
       "      <th>...</th>\n",
       "      <td>...</td>\n",
       "      <td>...</td>\n",
       "      <td>...</td>\n",
       "      <td>...</td>\n",
       "      <td>...</td>\n",
       "      <td>...</td>\n",
       "    </tr>\n",
       "    <tr>\n",
       "      <th>262848</th>\n",
       "      <td>일반남여_일반통합11_F_1528639096_31_수도권_실내_16579.wav</td>\n",
       "      <td>여</td>\n",
       "      <td>31</td>\n",
       "      <td>3.24</td>\n",
       "      <td>실내</td>\n",
       "      <td>(SP:) 여행 영상과는 어떻게 다른데</td>\n",
       "    </tr>\n",
       "    <tr>\n",
       "      <th>263082</th>\n",
       "      <td>일반남여_일반통합11_F_1528639096_31_수도권_실내_16575.wav</td>\n",
       "      <td>여</td>\n",
       "      <td>31</td>\n",
       "      <td>4.52</td>\n",
       "      <td>실내</td>\n",
       "      <td>(SP:)튜버들이 여행 가서 찍은 영상 보여주는 거 말하는 거야</td>\n",
       "    </tr>\n",
       "    <tr>\n",
       "      <th>263167</th>\n",
       "      <td>일반남여_일반통합11_F_1528639096_31_수도권_실내_16586.wav</td>\n",
       "      <td>여</td>\n",
       "      <td>31</td>\n",
       "      <td>3.50</td>\n",
       "      <td>실내</td>\n",
       "      <td>(SP:)럼 투어 중에 질문도 하고 그럴 수 있겠네</td>\n",
       "    </tr>\n",
       "    <tr>\n",
       "      <th>263185</th>\n",
       "      <td>일반남여_일반통합11_F_1528639096_31_수도권_실내_16588.wav</td>\n",
       "      <td>여</td>\n",
       "      <td>31</td>\n",
       "      <td>2.30</td>\n",
       "      <td>실내</td>\n",
       "      <td>비용(SP:) 어떻게 돼</td>\n",
       "    </tr>\n",
       "    <tr>\n",
       "      <th>263298</th>\n",
       "      <td>일반남여_일반통합11_F_1528639096_31_수도권_실내_16574.wav</td>\n",
       "      <td>여</td>\n",
       "      <td>31</td>\n",
       "      <td>2.64</td>\n",
       "      <td>실내</td>\n",
       "      <td>(SP:)선 투어 그게 뭐야</td>\n",
       "    </tr>\n",
       "  </tbody>\n",
       "</table>\n",
       "<p>770 rows × 6 columns</p>\n",
       "</div>"
      ],
      "text/plain": [
       "                                              file_name gender  age  \\\n",
       "4599    일반남여_일반통합05_M_jangwon805479_20_수도권_실내_06827.wav      남   20   \n",
       "4682    일반남여_일반통합05_M_jangwon805479_20_수도권_실내_07199.wav      남   20   \n",
       "5389        일반남여_일반통합05_F_sunchoi17_53_수도권_실내_06818.wav      여   53   \n",
       "5429        일반남여_일반통합05_F_sunchoi17_53_수도권_실내_06743.wav      여   53   \n",
       "5437        일반남여_일반통합05_F_sunchoi17_53_수도권_실내_06576.wav      여   53   \n",
       "...                                                 ...    ...  ...   \n",
       "262848     일반남여_일반통합11_F_1528639096_31_수도권_실내_16579.wav      여   31   \n",
       "263082     일반남여_일반통합11_F_1528639096_31_수도권_실내_16575.wav      여   31   \n",
       "263167     일반남여_일반통합11_F_1528639096_31_수도권_실내_16586.wav      여   31   \n",
       "263185     일반남여_일반통합11_F_1528639096_31_수도권_실내_16588.wav      여   31   \n",
       "263298     일반남여_일반통합11_F_1528639096_31_수도권_실내_16574.wav      여   31   \n",
       "\n",
       "        record_time record_env  \\\n",
       "4599           7.20         실내   \n",
       "4682           3.60         실내   \n",
       "5389           6.16         실내   \n",
       "5429           8.84         실내   \n",
       "5437           6.88         실내   \n",
       "...             ...        ...   \n",
       "262848         3.24         실내   \n",
       "263082         4.52         실내   \n",
       "263167         3.50         실내   \n",
       "263185         2.30         실내   \n",
       "263298         2.64         실내   \n",
       "\n",
       "                                                     text  \n",
       "4599    (NO:) (SP:) 슬로우푸드가 좋다는 건 알고 있지만 안 그래도 바쁜데 매 끼니...  \n",
       "4682                                      (SP:)예를 들어 어떤 거  \n",
       "5389                          (SP:)변비가 그럼 옛날 사람들은 변비가 없었어  \n",
       "5429           (SP:)같은 원리로 튼살에 바르고 마사지 해도 좋고 다크서클 케어에도 좋아  \n",
       "5437                      (SP:)주식하다 폭망한 사람들 얘기를 하도 많이 들어서  \n",
       "...                                                   ...  \n",
       "262848                              (SP:) 여행 영상과는 어떻게 다른데  \n",
       "263082                (SP:)튜버들이 여행 가서 찍은 영상 보여주는 거 말하는 거야  \n",
       "263167                       (SP:)럼 투어 중에 질문도 하고 그럴 수 있겠네  \n",
       "263185                                      비용(SP:) 어떻게 돼  \n",
       "263298                                    (SP:)선 투어 그게 뭐야  \n",
       "\n",
       "[770 rows x 6 columns]"
      ]
     },
     "execution_count": 6,
     "metadata": {},
     "output_type": "execute_result"
    }
   ],
   "source": [
    "\"\"\"\n",
    "(NO:)\n",
    "(SP:)\n",
    "(SN:)\n",
    "\"\"\"\n",
    "\n",
    "df[df['text'].str.contains(\"\\(SP:\\)\", na=False)]"
   ]
  },
  {
   "cell_type": "code",
   "execution_count": 12,
   "metadata": {},
   "outputs": [],
   "source": [
    "\n",
    "time = df[(df['age'] >= 20) & (df['age'] <= 40)]['record_time'].sum()\n",
    "\n",
    "time/3600"
   ]
  },
  {
   "cell_type": "code",
   "execution_count": 9,
   "metadata": {},
   "outputs": [
    {
     "data": {
      "text/plain": [
       "1620.2919169444451"
      ]
     },
     "execution_count": 9,
     "metadata": {},
     "output_type": "execute_result"
    }
   ],
   "source": [
    "time = df[(df['age'] >= 20) & (df['age'] <= 40) & (df['record_env'] == '실내')]['record_time'].sum()\n",
    "\n",
    "time/3600"
   ]
  },
  {
   "cell_type": "code",
   "execution_count": 8,
   "metadata": {},
   "outputs": [],
   "source": [
    "\"\"\"\n",
    "(NO:)\n",
    "(SP:)\n",
    "(SN:)\n",
    "제거\n",
    "\"\"\"\n",
    "target_string = ['(', ')']\n",
    "new_df = df[df['text'].map(lambda x: all(string not in x for string in target_string))]"
   ]
  },
  {
   "cell_type": "code",
   "execution_count": 9,
   "metadata": {},
   "outputs": [
    {
     "name": "stderr",
     "output_type": "stream",
     "text": [
      "/tmp/ipykernel_576976/3932765090.py:1: SettingWithCopyWarning: \n",
      "A value is trying to be set on a copy of a slice from a DataFrame.\n",
      "Try using .loc[row_indexer,col_indexer] = value instead\n",
      "\n",
      "See the caveats in the documentation: https://pandas.pydata.org/pandas-docs/stable/user_guide/indexing.html#returning-a-view-versus-a-copy\n",
      "  new_df['gender'] = new_df['gender'].replace({'남':'M', '여':'F'})\n"
     ]
    }
   ],
   "source": [
    "new_df['gender'] = new_df['gender'].replace({'남': 0, '여':1})"
   ]
  },
  {
   "cell_type": "code",
   "execution_count": 11,
   "metadata": {},
   "outputs": [],
   "source": [
    "new_df = new_df[new_df['record_env'] == '실내'] # 실내에서 녹음한 것만 사용"
   ]
  },
  {
   "cell_type": "code",
   "execution_count": 12,
   "metadata": {},
   "outputs": [
    {
     "data": {
      "text/html": [
       "<div>\n",
       "<style scoped>\n",
       "    .dataframe tbody tr th:only-of-type {\n",
       "        vertical-align: middle;\n",
       "    }\n",
       "\n",
       "    .dataframe tbody tr th {\n",
       "        vertical-align: top;\n",
       "    }\n",
       "\n",
       "    .dataframe thead th {\n",
       "        text-align: right;\n",
       "    }\n",
       "</style>\n",
       "<table border=\"1\" class=\"dataframe\">\n",
       "  <thead>\n",
       "    <tr style=\"text-align: right;\">\n",
       "      <th></th>\n",
       "      <th>file_name</th>\n",
       "      <th>gender</th>\n",
       "      <th>age</th>\n",
       "      <th>record_time</th>\n",
       "      <th>text</th>\n",
       "    </tr>\n",
       "  </thead>\n",
       "  <tbody>\n",
       "    <tr>\n",
       "      <th>0</th>\n",
       "      <td>일반남여_자유대화_F_1536588430_38_경상_실내_20201119163346...</td>\n",
       "      <td>F</td>\n",
       "      <td>38</td>\n",
       "      <td>10.83</td>\n",
       "      <td>아이는 티비를 보며 옆에서 놀고 있어요 빨리 맛있는 간식을 준비해 줘야겠어요</td>\n",
       "    </tr>\n",
       "    <tr>\n",
       "      <th>1</th>\n",
       "      <td>일반남여_자유대화_F_1536588430_38_경상_실내_20201120072744...</td>\n",
       "      <td>F</td>\n",
       "      <td>38</td>\n",
       "      <td>6.65</td>\n",
       "      <td>이제 아이를 유치원에 데려다 줄 시간입니다</td>\n",
       "    </tr>\n",
       "    <tr>\n",
       "      <th>2</th>\n",
       "      <td>일반남여_자유대화_F_1536588430_38_경상_실내_20201120072648...</td>\n",
       "      <td>F</td>\n",
       "      <td>38</td>\n",
       "      <td>4.52</td>\n",
       "      <td>좋은 아침이에요</td>\n",
       "    </tr>\n",
       "    <tr>\n",
       "      <th>3</th>\n",
       "      <td>일반남여_자유대화_F_1536588430_38_경상_실내_20201119163719...</td>\n",
       "      <td>F</td>\n",
       "      <td>38</td>\n",
       "      <td>6.83</td>\n",
       "      <td>자도 시어머니 살아 계실 때 좀 더 잘 해야겠네요</td>\n",
       "    </tr>\n",
       "    <tr>\n",
       "      <th>4</th>\n",
       "      <td>일반남여_자유대화_F_1536588430_38_경상_실내_20201119163453...</td>\n",
       "      <td>F</td>\n",
       "      <td>38</td>\n",
       "      <td>6.83</td>\n",
       "      <td>시금치 된장국 맛있겠네요 저도 먹고 싶어요</td>\n",
       "    </tr>\n",
       "  </tbody>\n",
       "</table>\n",
       "</div>"
      ],
      "text/plain": [
       "                                           file_name gender  age  record_time  \\\n",
       "0  일반남여_자유대화_F_1536588430_38_경상_실내_20201119163346...      F   38        10.83   \n",
       "1  일반남여_자유대화_F_1536588430_38_경상_실내_20201120072744...      F   38         6.65   \n",
       "2  일반남여_자유대화_F_1536588430_38_경상_실내_20201120072648...      F   38         4.52   \n",
       "3  일반남여_자유대화_F_1536588430_38_경상_실내_20201119163719...      F   38         6.83   \n",
       "4  일반남여_자유대화_F_1536588430_38_경상_실내_20201119163453...      F   38         6.83   \n",
       "\n",
       "                                         text  \n",
       "0  아이는 티비를 보며 옆에서 놀고 있어요 빨리 맛있는 간식을 준비해 줘야겠어요  \n",
       "1                     이제 아이를 유치원에 데려다 줄 시간입니다  \n",
       "2                                    좋은 아침이에요  \n",
       "3                 자도 시어머니 살아 계실 때 좀 더 잘 해야겠네요  \n",
       "4                     시금치 된장국 맛있겠네요 저도 먹고 싶어요  "
      ]
     },
     "execution_count": 12,
     "metadata": {},
     "output_type": "execute_result"
    }
   ],
   "source": [
    "new_df = new_df.drop('record_env', axis=1)\n",
    "new_df.head()"
   ]
  },
  {
   "cell_type": "code",
   "execution_count": 17,
   "metadata": {},
   "outputs": [
    {
     "name": "stderr",
     "output_type": "stream",
     "text": [
      "/tmp/ipykernel_576976/2734081200.py:1: UserWarning: Boolean Series key will be reindexed to match DataFrame index.\n",
      "  new_df = new_df[(df['age'] >= 20) & (df['age'] <= 40)]\n"
     ]
    }
   ],
   "source": [
    "new_df = new_df[(df['age'] >= 20) & (df['age'] <= 40)] # 20대 이상 40대 이하만 사용"
   ]
  },
  {
   "cell_type": "code",
   "execution_count": 18,
   "metadata": {},
   "outputs": [],
   "source": [
    "new_df.to_csv('new_val_output.csv', index=False)"
   ]
  },
  {
   "cell_type": "markdown",
   "metadata": {},
   "source": [
    "# 소음 데이터\n",
    "\n",
    "https://www.aihub.or.kr/aihubdata/data/view.do?currMenu=115&topMenu=100&aihubDataSe=data&dataSetSn=71405\n",
    "\n",
    "명령어 인식을 위한 소음 환경 데이터(가정환경)를 이용해서 평가 데이터로 사용했습니다."
   ]
  },
  {
   "cell_type": "code",
   "execution_count": null,
   "metadata": {},
   "outputs": [],
   "source": [
    "import pandas as pd\n",
    "from sklearn.model_selection import train_test_split\n",
    "import os\n",
    "import json\n",
    "import re"
   ]
  },
  {
   "cell_type": "code",
   "execution_count": null,
   "metadata": {},
   "outputs": [],
   "source": [
    "path = '/DATA2/소음데이터/Validation/02.라벨링데이터'\n",
    "\n",
    "names = []\n",
    "lengths = []\n",
    "genders = []\n",
    "texts = []\n",
    "\n",
    "for file in  os.listdir(path):\n",
    "    with open(os.path.join(path,file), 'r') as f:\n",
    "        try:\n",
    "            json_data = json.load(f)\n",
    "\n",
    "            names.append(json_data['file']['name'])\n",
    "            lengths.append(json_data['file']['length'])\n",
    "            genders.append(json_data['speaker']['gender'])\n",
    "            texts.append(json_data['command']['text'])\n",
    "        except:\n",
    "            continue\n",
    "    \n"
   ]
  },
  {
   "cell_type": "code",
   "execution_count": null,
   "metadata": {},
   "outputs": [],
   "source": [
    "df = pd.DataFrame()\n",
    "df['file_name']   = names\n",
    "df['gender']      = genders\n",
    "df['record_time'] = lengths\n",
    "df['text']        = texts"
   ]
  },
  {
   "cell_type": "code",
   "execution_count": null,
   "metadata": {},
   "outputs": [],
   "source": [
    "def special_filter(sentence):\n",
    "    '''\n",
    "    문자 단위로 특수 문자 및 노이즈 표기 필터링해주는 함수이다.\n",
    "    특수 문자를 아예 필터링 해버리면 문제가 되는 '#', '%'와 같은 문자를 확인하고, 문제가 되는 특수 문자는 해당 발음으로 바꿔주었다.\n",
    "    '''\n",
    "    SENTENCE_MARK = ['?', '!']\n",
    "    NOISE = ['o', 'n', 'u', 'b', 'l']\n",
    "    EXCEPT = ['/', '+', '*', '-', '@', '$', '^', '&', '[', ']', '=', ':', ';', '.', ',']\n",
    "    \n",
    "    new_sentence = str()\n",
    "    for idx, ch in enumerate(sentence):\n",
    "        if ch not in SENTENCE_MARK:\n",
    "            # o/, n/ 등 처리\n",
    "            if idx + 1 < len(sentence) and ch in NOISE and sentence[idx+1] == '/': \n",
    "                continue \n",
    "\n",
    "        if ch == '#': \n",
    "            new_sentence += '샾'\n",
    "\n",
    "        elif ch not in EXCEPT: \n",
    "            new_sentence += ch\n",
    "\n",
    "    pattern = re.compile(r'\\s\\s+')\n",
    "    new_sentence = re.sub(pattern, ' ', new_sentence.strip())\n",
    "    return new_sentence"
   ]
  },
  {
   "cell_type": "code",
   "execution_count": null,
   "metadata": {},
   "outputs": [],
   "source": [
    "df['text'] = df['text'].apply(special_filter)"
   ]
  },
  {
   "cell_type": "code",
   "execution_count": null,
   "metadata": {},
   "outputs": [],
   "source": [
    "df['record_time'] = df['record_time'].astype(float)"
   ]
  },
  {
   "cell_type": "code",
   "execution_count": null,
   "metadata": {},
   "outputs": [],
   "source": [
    "(df['record_time'].sum() ) / 3600"
   ]
  },
  {
   "cell_type": "code",
   "execution_count": null,
   "metadata": {},
   "outputs": [],
   "source": [
    "df_stt = df[['file_name', 'text']]"
   ]
  },
  {
   "cell_type": "markdown",
   "metadata": {},
   "source": [
    "### 원거리\n",
    "\n",
    "원거리에서 녹음한 파일을 따로 저장했습니다."
   ]
  },
  {
   "cell_type": "code",
   "execution_count": null,
   "metadata": {},
   "outputs": [],
   "source": [
    "def modify_file_name(file_name):\n",
    "    new_path = f\"/DATA2/소음데이터/Validation/01.원천데이터/{file_name}-N.wav\"\n",
    "    return new_path"
   ]
  },
  {
   "cell_type": "code",
   "execution_count": null,
   "metadata": {},
   "outputs": [],
   "source": [
    "df_stt['file_name'] = df_stt['file_name'].apply(modify_file_name)\n",
    "df_stt"
   ]
  },
  {
   "cell_type": "code",
   "execution_count": null,
   "metadata": {},
   "outputs": [],
   "source": [
    "saveSetPath = '/DATA2/소음데이터/Validation'\n",
    "df_stt.to_csv(os.path.join(saveSetPath, 'test_stt_Long.csv'), index=False, header = False)"
   ]
  },
  {
   "cell_type": "markdown",
   "metadata": {},
   "source": [
    "### 근거리"
   ]
  },
  {
   "cell_type": "code",
   "execution_count": null,
   "metadata": {},
   "outputs": [],
   "source": [
    "def modify_file_name(file_name):\n",
    "    new_path = f\"/DATA2/소음데이터/Validation/01.원천데이터/{file_name}-S.wav\"\n",
    "    return new_path"
   ]
  },
  {
   "cell_type": "code",
   "execution_count": null,
   "metadata": {},
   "outputs": [],
   "source": [
    "df_stt = df[['file_name', 'text']]\n",
    "df_stt"
   ]
  },
  {
   "cell_type": "code",
   "execution_count": null,
   "metadata": {},
   "outputs": [],
   "source": [
    "df_stt['file_name'] = df_stt['file_name'].apply(modify_file_name)\n",
    "df_stt"
   ]
  },
  {
   "cell_type": "code",
   "execution_count": null,
   "metadata": {},
   "outputs": [],
   "source": [
    "saveSetPath = '/DATA2/소음데이터/Validation'\n",
    "df_stt.to_csv(os.path.join(saveSetPath, 'test_stt_Short.csv'), index=False, header = False)"
   ]
  }
 ],
 "metadata": {
  "kernelspec": {
   "display_name": "incheol",
   "language": "python",
   "name": "python3"
  },
  "language_info": {
   "codemirror_mode": {
    "name": "ipython",
    "version": 3
   },
   "file_extension": ".py",
   "mimetype": "text/x-python",
   "name": "python",
   "nbconvert_exporter": "python",
   "pygments_lexer": "ipython3",
   "version": "3.9.18"
  }
 },
 "nbformat": 4,
 "nbformat_minor": 2
}
